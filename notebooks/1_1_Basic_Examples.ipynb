{
 "cells": [
  {
   "cell_type": "markdown",
   "metadata": {},
   "source": [
    "## Example 1:"
   ]
  },
  {
   "cell_type": "code",
   "execution_count": null,
   "metadata": {},
   "outputs": [],
   "source": [
    "import tensorflow as tf\n",
    "a = 2\n",
    "b = 3\n",
    "c = tf.add(a, b, name='Add') \n",
    "print(c)"
   ]
  },
  {
   "cell_type": "markdown",
   "metadata": {},
   "source": [
    "## Example 2:"
   ]
  },
  {
   "cell_type": "code",
   "execution_count": null,
   "metadata": {},
   "outputs": [],
   "source": [
    "import tensorflow as tf\n",
    "x = 2\n",
    "y = 3\n",
    "add_op = tf.add(x, y, name='Add')\n",
    "mul_op = tf.multiply(x, y, name='Multiply')\n",
    "pow_op = tf.pow(add_op, mul_op, name='Power')\n",
    "\n",
    "\n",
    "with tf.Session() as sess:\n",
    "    pow_out = sess.run(pow_op)\n",
    "    print(pow_out)"
   ]
  },
  {
   "cell_type": "markdown",
   "metadata": {},
   "source": [
    "## Example 3:"
   ]
  },
  {
   "cell_type": "code",
   "execution_count": null,
   "metadata": {},
   "outputs": [],
   "source": [
    "import tensorflow as tf\n",
    "x = 2\n",
    "y = 3\n",
    "add_op = tf.add(x, y, name='Add')\n",
    "mul_op = tf.multiply(x, y, name='Multiply')\n",
    "pow_op = tf.pow(add_op, mul_op, name='Power')\n",
    "useless_op = tf.multiply(x, add_op, name='Useless')\n",
    "\n",
    "\n",
    "with tf.Session() as sess:\n",
    "       pow_out = sess.run(pow_op) "
   ]
  },
  {
   "cell_type": "markdown",
   "metadata": {},
   "source": [
    "## Example 4: _Constant_"
   ]
  },
  {
   "cell_type": "code",
   "execution_count": null,
   "metadata": {},
   "outputs": [],
   "source": [
    "import tensorflow as tf\n",
    "a = tf.constant(2, name='A')\n",
    "b = tf.constant(3, name='B')\n",
    "c = tf.add(a, b, name='Add')\n",
    "\n",
    "with tf.Session() as sess:\n",
    "    print(sess.run(c)) "
   ]
  },
  {
   "cell_type": "markdown",
   "metadata": {},
   "source": [
    "## Example 5: _Variable_"
   ]
  },
  {
   "cell_type": "code",
   "execution_count": null,
   "metadata": {},
   "outputs": [],
   "source": [
    "import tensorflow as tf\n",
    "# create graph\n",
    "a = tf.get_variable(name=\"A\", initializer=tf.constant([[0, 1], [2, 3]]))\n",
    "b = tf.get_variable(name=\"B\", initializer=tf.constant([[4, 5], [6, 7]]))\n",
    "c = tf.add(a, b, name=\"Add\") \n",
    "\n",
    "# launch the graph in a session\n",
    "with tf.Session() as sess:\n",
    "      # now we can run the desired operation\n",
    "      print(sess.run(c))"
   ]
  },
  {
   "cell_type": "markdown",
   "metadata": {},
   "source": [
    "## Example 6: _Placeholder_"
   ]
  },
  {
   "cell_type": "code",
   "execution_count": null,
   "metadata": {},
   "outputs": [],
   "source": [
    "import tensorflow as tf\n",
    "a = tf.constant([5, 5, 5], tf.float32, name='A')\n",
    "b = tf.placeholder(tf.float32, shape=[3], name='B')\n",
    "c = tf.add(a, b, name=\"Add\")\n",
    "\n",
    "\n",
    "with tf.Session() as sess:\n",
    "      # create a dictionary:\n",
    "      d = {b: [1, 2, 3]}\n",
    "      # feed it to the placeholder\n",
    "      print(sess.run(c, feed_dict=d)) "
   ]
  },
  {
   "cell_type": "markdown",
   "metadata": {},
   "source": [
    "# Example 7: _Math Equation_\n",
    "\n",
    "<img src=\"imgs/0_equation.png\" width=500>\n",
    "\n"
   ]
  },
  {
   "cell_type": "markdown",
   "metadata": {},
   "source": [
    "## 1. import the required libraries"
   ]
  },
  {
   "cell_type": "code",
   "execution_count": null,
   "metadata": {
    "scrolled": true
   },
   "outputs": [],
   "source": [
    "import tensorflow as tf\n",
    "import numpy as np"
   ]
  },
  {
   "cell_type": "markdown",
   "metadata": {},
   "source": [
    "## 2. Create the graph"
   ]
  },
  {
   "cell_type": "code",
   "execution_count": null,
   "metadata": {},
   "outputs": [],
   "source": [
    "x = tf.placeholder(tf.int32, shape=[1], name='x')\n",
    "y = tf.placeholder(tf.int32, shape=[1], name='y')\n",
    "c = tf.constant(2, name='c')\n",
    "x_2 = tf.pow(x, 2, name='x_2')\n",
    "add_op = tf.add(y, c, name='Add')\n",
    "mul_op = tf.multiply(x_2, y, name='Multiply')\n",
    "output = tf.add(add_op, mul_op, name='Output')"
   ]
  },
  {
   "cell_type": "markdown",
   "metadata": {},
   "source": [
    "## 3. Run a session"
   ]
  },
  {
   "cell_type": "code",
   "execution_count": null,
   "metadata": {},
   "outputs": [],
   "source": [
    "with tf.Session() as sess:\n",
    "    out = sess.run(output, feed_dict={x: np.array([2]), y: np.array([3])})\n",
    "    print('Output is: {}'.format(out))"
   ]
  },
  {
   "cell_type": "code",
   "execution_count": null,
   "metadata": {},
   "outputs": [],
   "source": []
  }
 ],
 "metadata": {
  "kernelspec": {
   "display_name": "Python 2",
   "language": "python",
   "name": "python2"
  },
  "language_info": {
   "codemirror_mode": {
    "name": "ipython",
    "version": 2
   },
   "file_extension": ".py",
   "mimetype": "text/x-python",
   "name": "python",
   "nbconvert_exporter": "python",
   "pygments_lexer": "ipython2",
   "version": "2.7.14"
  }
 },
 "nbformat": 4,
 "nbformat_minor": 2
}
