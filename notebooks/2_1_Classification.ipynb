{
 "cells": [
  {
   "cell_type": "markdown",
   "metadata": {},
   "source": [
    "# Classification in Keras"
   ]
  },
  {
   "cell_type": "markdown",
   "metadata": {},
   "source": [
    "## 1. Import Libraries"
   ]
  },
  {
   "cell_type": "code",
   "execution_count": 1,
   "metadata": {},
   "outputs": [
    {
     "name": "stderr",
     "output_type": "stream",
     "text": [
      "Using TensorFlow backend.\n"
     ]
    }
   ],
   "source": [
    "import os\n",
    "import numpy as np\n",
    "import pandas as pd\n",
    "import itertools\n",
    "import urllib.request\n",
    "\n",
    "\n",
    "import keras\n",
    "from keras.callbacks import TensorBoard, EarlyStopping\n",
    "from keras.models import Sequential\n",
    "from keras.layers import Dense\n",
    "\n",
    "from sklearn.model_selection import train_test_split\n",
    "from sklearn.preprocessing import OneHotEncoder\n",
    "from sklearn.metrics import confusion_matrix\n",
    "\n",
    "import matplotlib.pyplot as plt"
   ]
  },
  {
   "cell_type": "markdown",
   "metadata": {},
   "source": [
    "## 2. Hyperparameters"
   ]
  },
  {
   "cell_type": "code",
   "execution_count": 2,
   "metadata": {},
   "outputs": [],
   "source": [
    "MODE = 'test'\n",
    "RUN_NAME = 'run01'\n",
    "SAVE_DIR = 'models'\n",
    "NUM_HIDDEN_UNITS = [70, 30]\n",
    "EPOCHS = 500"
   ]
  },
  {
   "cell_type": "code",
   "execution_count": 3,
   "metadata": {},
   "outputs": [],
   "source": [
    "# Create folder to save model\n",
    "model_dir = os.path.join(SAVE_DIR, RUN_NAME)\n",
    "if not os.path.exists(model_dir):\n",
    "    os.makedirs(model_dir)"
   ]
  },
  {
   "cell_type": "markdown",
   "metadata": {},
   "source": [
    "## 3. Load the data"
   ]
  },
  {
   "cell_type": "code",
   "execution_count": 4,
   "metadata": {},
   "outputs": [],
   "source": [
    "def download_data(url, filename):\n",
    "    \"\"\"\n",
    "    Download the dataset from the url\n",
    "    :param url: url of file to be downloaded\n",
    "    :param filename: filname to be saved\n",
    "    :return:\n",
    "    \"\"\"\n",
    "    urllib.request.urlretrieve(url, filename)\n",
    "    \n",
    "\n",
    "def load_data(filename, class_col='class', rm_nan_by_axis=0):\n",
    "    \"\"\"\n",
    "    Load the dataset from file and return X, y\n",
    "    :param filename: name of xls file\n",
    "    :param class_col: column name of class\n",
    "    :param rm_nan_by_axis: remove empty values by axis row=0, column=1\n",
    "    :return: X: features y:labels\n",
    "    \"\"\"\n",
    "    xls_file = pd.read_excel(filename, index_col=0)\n",
    "    # remove missing values by row: axis=0, column: axis=1\n",
    "    xls_file = xls_file.dropna(axis=rm_nan_by_axis)\n",
    "\n",
    "    X = xls_file[xls_file.columns[0:-4]].values\n",
    "    y = xls_file[class_col].astype('category').cat.codes.values\n",
    "\n",
    "    return X, y"
   ]
  },
  {
   "cell_type": "code",
   "execution_count": 5,
   "metadata": {},
   "outputs": [],
   "source": [
    "# LOAD DATA\n",
    "# Download the Mice Protein Expression dataset from uci\n",
    "# https://archive.ics.uci.edu/ml/datasets/Mice+Protein+Expression\n",
    "url = 'https://archive.ics.uci.edu/ml/machine-learning-databases/00342/Data_Cortex_Nuclear.xls'\n",
    "file_name = 'Data_Cortex_Nuclear.xls'\n",
    "download_data(url, file_name)\n",
    "\n",
    "# Load the dataset\n",
    "X, y = load_data(file_name, rm_nan_by_axis=1)\n",
    "\n",
    "\n",
    "num_samples, num_features = X.shape\n",
    "num_classes = np.max(y) + 1"
   ]
  },
  {
   "cell_type": "markdown",
   "metadata": {},
   "source": [
    "## 4. Preprocessing"
   ]
  },
  {
   "cell_type": "code",
   "execution_count": 6,
   "metadata": {},
   "outputs": [],
   "source": [
    "# One-hot encode\n",
    "onehot_encoder = OneHotEncoder(sparse=False, categories='auto')\n",
    "y_onehot = onehot_encoder.fit_transform(np.expand_dims(y, axis=1))\n",
    "\n",
    "# Train-Test split\n",
    "X_train, X_test, y_train, y_test = train_test_split(X, y_onehot, test_size=.3)"
   ]
  },
  {
   "cell_type": "markdown",
   "metadata": {},
   "source": [
    "## 5. Create the model (i.e. Graph)"
   ]
  },
  {
   "cell_type": "code",
   "execution_count": 7,
   "metadata": {},
   "outputs": [
    {
     "name": "stdout",
     "output_type": "stream",
     "text": [
      "WARNING:tensorflow:From /Users/jahandarjahanipour/anaconda/envs/tensorflow/lib/python3.6/site-packages/tensorflow/contrib/learn/python/learn/datasets/base.py:198: retry (from tensorflow.contrib.learn.python.learn.datasets.base) is deprecated and will be removed in a future version.\n",
      "Instructions for updating:\n",
      "Use the retry module or similar alternatives.\n",
      "_________________________________________________________________\n",
      "Layer (type)                 Output Shape              Param #   \n",
      "=================================================================\n",
      "FC_1 (Dense)                 (None, 70)                2030      \n",
      "_________________________________________________________________\n",
      "FC_2 (Dense)                 (None, 30)                2130      \n",
      "_________________________________________________________________\n",
      "output (Dense)               (None, 8)                 248       \n",
      "=================================================================\n",
      "Total params: 4,408\n",
      "Trainable params: 4,408\n",
      "Non-trainable params: 0\n",
      "_________________________________________________________________\n"
     ]
    }
   ],
   "source": [
    "# BUILD MODEL\n",
    "model = Sequential()\n",
    "model.add(Dense(NUM_HIDDEN_UNITS[0], activation='relu', name='FC_1', input_shape=(num_features,)))\n",
    "model.add(Dense(NUM_HIDDEN_UNITS[1], activation='relu', name='FC_2'))\n",
    "model.add(Dense(num_classes, activation='softmax', name='output'))\n",
    "model.compile(loss=keras.losses.categorical_crossentropy,\n",
    "              optimizer=keras.optimizers.Adadelta(),\n",
    "              metrics=['accuracy'])\n",
    "\n",
    "# CALLBACKS\n",
    "# Early Stop\n",
    "early_stop = EarlyStopping(monitor='val_loss', patience=20)\n",
    "\n",
    "# TensorBoard\n",
    "tensorboard = TensorBoard(log_dir=model_dir)\n",
    "\n",
    "model.summary()"
   ]
  },
  {
   "cell_type": "markdown",
   "metadata": {},
   "source": [
    "## 6. Train"
   ]
  },
  {
   "cell_type": "code",
   "execution_count": 8,
   "metadata": {},
   "outputs": [],
   "source": [
    "# run session and train\n",
    "if MODE == 'train':\n",
    "    model.fit(X_train, y_train, epochs=EPOCHS, batch_size=32, validation_split=0.2,\n",
    "              callbacks=[tensorboard, early_stop])\n",
    "\n",
    "    model.save_weights(os.path.join(os.path.join(model_dir), 'wieghts.h5'))"
   ]
  },
  {
   "cell_type": "markdown",
   "metadata": {},
   "source": [
    "## 7. Test"
   ]
  },
  {
   "cell_type": "code",
   "execution_count": 9,
   "metadata": {},
   "outputs": [],
   "source": [
    "def plot_confusion_matrix(cm, classes=None,\n",
    "                          normalize=False,\n",
    "                          title='Confusion matrix',\n",
    "                          cmap=plt.cm.Blues):\n",
    "    \"\"\"\n",
    "    This function prints and plots the confusion matrix.\n",
    "    :param cm: confusion matrix\n",
    "    :param classes: list of class names\n",
    "    :param normalize: normalize to 0-1\n",
    "    :param title: plot title\n",
    "    :param cmap: colormap\n",
    "    :return:\n",
    "    \"\"\"\n",
    "\n",
    "    if classes is None:\n",
    "        classes = ['class_{}'.format(i) for i in range(1, len(cm) + 1)]\n",
    "\n",
    "    if normalize:\n",
    "        cm = cm.astype('float') / cm.sum(axis=1)[:, np.newaxis]\n",
    "\n",
    "    plt.imshow(cm, interpolation='nearest', cmap=cmap)\n",
    "    plt.title(title)\n",
    "    plt.colorbar()\n",
    "    tick_marks = np.arange(len(classes))\n",
    "    plt.xticks(tick_marks, classes, rotation=45)\n",
    "    plt.yticks(tick_marks, classes)\n",
    "\n",
    "    fmt = '.2f' if normalize else 'd'\n",
    "    thresh = cm.max() / 2.\n",
    "    for i, j in itertools.product(range(cm.shape[0]), range(cm.shape[1])):\n",
    "        plt.text(j, i, format(cm[i, j], fmt),\n",
    "                 horizontalalignment=\"center\",\n",
    "                 color=\"white\" if cm[i, j] > thresh else \"black\")\n",
    "\n",
    "    plt.ylabel('True label')\n",
    "    plt.xlabel('Predicted label')\n",
    "    plt.tight_layout()\n",
    "    plt.show()"
   ]
  },
  {
   "cell_type": "code",
   "execution_count": 10,
   "metadata": {},
   "outputs": [
    {
     "name": "stdout",
     "output_type": "stream",
     "text": [
      "324/324 [==============================] - 0s 95us/step\n",
      "Testing set Loss: 0.10\n",
      "Testing set Accuracy: 97.53%\n"
     ]
    },
    {
     "data": {
      "image/png": "[encoded data removed]",
      "text/plain": [
       "<Figure size 432x288 with 2 Axes>"
      ]
     },
     "metadata": {
      "needs_background": "light"
     },
     "output_type": "display_data"
    }
   ],
   "source": [
    "# run session and test\n",
    "if MODE == 'test':\n",
    "    model.load_weights(os.path.join(os.path.join(model_dir), 'wieghts.h5'))\n",
    "    # test\n",
    "    loss, acc = model.evaluate(X_test, y_test)\n",
    "    print('Testing set Loss: {:.2f}'.format(loss))\n",
    "    print('Testing set Accuracy: {:.2%}'.format(acc))\n",
    "    # Predict\n",
    "    y_pred = model.predict(X_test)\n",
    "    classes = list(pd.read_excel(file_name, index_col=0)['class'].astype('category').cat.categories)\n",
    "    cnf_matrix = confusion_matrix(y_test.argmax(axis=1), y_pred.argmax(axis=1))\n",
    "    plot_confusion_matrix(cnf_matrix, classes=classes)"
   ]
  }
 ],
 "metadata": {
  "kernelspec": {
   "display_name": "Python 3",
   "language": "python",
   "name": "python3"
  },
  "language_info": {
   "codemirror_mode": {
    "name": "ipython",
    "version": 3
   },
   "file_extension": ".py",
   "mimetype": "text/x-python",
   "name": "python",
   "nbconvert_exporter": "python",
   "pygments_lexer": "ipython3",
   "version": "3.6.2"
  }
 },
 "nbformat": 4,
 "nbformat_minor": 2
}
