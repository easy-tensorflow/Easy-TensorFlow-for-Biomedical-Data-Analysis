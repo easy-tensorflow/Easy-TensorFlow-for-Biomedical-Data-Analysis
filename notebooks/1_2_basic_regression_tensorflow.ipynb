{
 "cells": [
  {
   "cell_type": "markdown",
   "metadata": {},
   "source": [
    "# Linear Regression in TensorFlow"
   ]
  },
  {
   "cell_type": "markdown",
   "metadata": {},
   "source": [
    "## 1. import libraries"
   ]
  },
  {
   "cell_type": "code",
   "execution_count": null,
   "metadata": {},
   "outputs": [],
   "source": [
    "import tensorflow as tf\n",
    "from tensorflow import keras as K\n",
    "import numpy as np\n",
    "import matplotlib.pyplot as plt\n",
    "from sklearn.model_selection import train_test_split"
   ]
  },
  {
   "cell_type": "markdown",
   "metadata": {},
   "source": [
    "## 2. Hyperparameters"
   ]
  },
  {
   "cell_type": "code",
   "execution_count": null,
   "metadata": {},
   "outputs": [],
   "source": [
    "EPOCHS = 500\n",
    "NUM_HIDDEN_UNITS = 64\n",
    "OUTPUT_DIMENSION = 1\n",
    "LEARNING_RATE = 0.001\n",
    "BATCH_SIZE = 32\n",
    "DISP_FREQ = 100"
   ]
  },
  {
   "cell_type": "markdown",
   "metadata": {},
   "source": [
    "## 3. Load the data"
   ]
  },
  {
   "cell_type": "code",
   "execution_count": null,
   "metadata": {},
   "outputs": [],
   "source": [
    "# Load the Boston Housing Prices dataset\n",
    "boston_housing = K.datasets.boston_housing\n",
    "(X_train, y_train), (X_test, y_test) = boston_housing.load_data()\n",
    "num_features = X_train.shape[1]\n",
    "\n",
    "\n",
    "def randomize(x, y):\n",
    "    \"\"\" Randomizes the order of data samples and their corresponding labels\"\"\"\n",
    "    permutation = np.random.permutation(y.shape[0])\n",
    "    shuffled_x = x[permutation, :]\n",
    "    shuffled_y = y[permutation]\n",
    "    return shuffled_x, shuffled_y\n",
    "\n",
    "\n",
    "# Shuffle the training set\n",
    "X_train, y_train = randomize(X_train, y_train)\n",
    "\n",
    "print(\"Train data size -> input: {}, output: {}\".format(X_train.shape, y_train.shape))\n",
    "print(\"Test data size: -> input: {}, output: {}\".format(X_test.shape, y_test.shape))"
   ]
  },
  {
   "cell_type": "markdown",
   "metadata": {},
   "source": [
    "## 4. Normalize the data"
   ]
  },
  {
   "cell_type": "code",
   "execution_count": null,
   "metadata": {},
   "outputs": [],
   "source": [
    "# Test data is *not* used when calculating the mean and std\n",
    "mean = X_train.mean(axis=0)\n",
    "std = X_train.std(axis=0)\n",
    "X_train = (X_train - mean) / std\n",
    "X_test = (X_test - mean) / std\n",
    "\n",
    "# Create validation data\n",
    "X_train, X_valid, y_train, y_valid = train_test_split(X_train, y_train, test_size=0.2)"
   ]
  },
  {
   "cell_type": "markdown",
   "metadata": {},
   "source": [
    "## 5. Create the model (i.e. Graph)"
   ]
  },
  {
   "cell_type": "code",
   "execution_count": null,
   "metadata": {},
   "outputs": [],
   "source": [
    "# Placeholders for inputs (x) and outputs(y)\n",
    "x = tf.placeholder(tf.float32, shape=[None, num_features], name='X')\n",
    "y = tf.placeholder(tf.float32, shape=[None], name='Y')"
   ]
  },
  {
   "cell_type": "code",
   "execution_count": null,
   "metadata": {},
   "outputs": [],
   "source": [
    "def DenseLayer(inputs, num_units, layer_name, activation=None):\n",
    "    input_dim = inputs.get_shape().as_list()[-1]\n",
    "    with tf.variable_scope(layer_name):\n",
    "        W = tf.get_variable('W',\n",
    "                            dtype=tf.float32,\n",
    "                            shape=[input_dim, num_units],\n",
    "                            initializer=tf.truncated_normal_initializer(stddev=0.01))\n",
    "        b = tf.get_variable('b',\n",
    "                            dtype=tf.float32,\n",
    "                            initializer=tf.constant(0., shape=[num_units], dtype=tf.float32))\n",
    "        logits = tf.matmul(inputs, W) + b\n",
    "        if activation:\n",
    "            return activation(logits)\n",
    "    return logits"
   ]
  },
  {
   "cell_type": "code",
   "execution_count": null,
   "metadata": {},
   "outputs": [],
   "source": [
    "# Hidden Layer\n",
    "fc1 = DenseLayer(x, NUM_HIDDEN_UNITS, 'FC1', activation=tf.nn.relu)\n",
    "\n",
    "# Output Layer\n",
    "predictions = DenseLayer(fc1, OUTPUT_DIMENSION, 'FC2')\n",
    "\n",
    "# Define the loss function and optimizer\n",
    "loss = tf.reduce_mean(tf.losses.mean_squared_error(labels=y, predictions=tf.squeeze(predictions)))\n",
    "optimizer = tf.train.AdamOptimizer(learning_rate=LEARNING_RATE).minimize(loss)\n",
    "\n",
    "# Creating the op for initializing all variables\n",
    "init = tf.global_variables_initializer()"
   ]
  },
  {
   "cell_type": "markdown",
   "metadata": {},
   "source": [
    "## 6. Train"
   ]
  },
  {
   "cell_type": "code",
   "execution_count": null,
   "metadata": {},
   "outputs": [],
   "source": [
    "def get_next_batch(x, y, start, end):\n",
    "    x_batch = x[start:end]\n",
    "    y_batch = y[start:end]\n",
    "    return x_batch, y_batch"
   ]
  },
  {
   "cell_type": "code",
   "execution_count": null,
   "metadata": {},
   "outputs": [],
   "source": [
    "sess = tf.InteractiveSession()\n",
    "# Initialize all variables\n",
    "sess.run(init)\n",
    "# Number of training iterations in each epoch\n",
    "NUM_TR_ITERS = int(len(y_train) / BATCH_SIZE)\n",
    "print('------------------------------------')\n",
    "for epoch in range(EPOCHS):\n",
    "    # Randomly shuffle the training data at the beginning of each epoch\n",
    "    x_train, y_train = randomize(X_train, y_train)\n",
    "    for iteration in range(NUM_TR_ITERS):\n",
    "        start = iteration * BATCH_SIZE\n",
    "        end = (iteration + 1) * BATCH_SIZE\n",
    "        x_batch, y_batch = get_next_batch(X_train, y_train, start, end)\n",
    "\n",
    "        # Run optimization op (backprop)\n",
    "        feed_dict_batch = {x: x_batch, y: y_batch}\n",
    "        sess.run(optimizer, feed_dict=feed_dict_batch)\n",
    "    if not epoch % DISP_FREQ:\n",
    "        # Run validation after every epoch\n",
    "        feed_dict_valid = {x: X_valid, y: y_valid}\n",
    "        loss_valid = sess.run(loss, feed_dict=feed_dict_valid)\n",
    "        print(\"Epoch: {0}, validation loss: {1:.2f}\".format(epoch, loss_valid))\n",
    "        print('------------------------------------')\n"
   ]
  }
 ],
 "metadata": {
  "kernelspec": {
   "display_name": "Python 3",
   "language": "python",
   "name": "python3"
  },
  "language_info": {
   "codemirror_mode": {
    "name": "ipython",
    "version": 3
   },
   "file_extension": ".py",
   "mimetype": "text/x-python",
   "name": "python",
   "nbconvert_exporter": "python",
   "pygments_lexer": "ipython3",
   "version": "3.6.8"
  }
 },
 "nbformat": 4,
 "nbformat_minor": 2
}
